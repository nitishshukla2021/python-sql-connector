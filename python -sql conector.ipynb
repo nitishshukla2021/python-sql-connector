{
 "cells": [
  {
   "cell_type": "code",
   "execution_count": 1,
   "id": "3f824e36",
   "metadata": {},
   "outputs": [
    {
     "name": "stdout",
     "output_type": "stream",
     "text": [
      "Defaulting to user installation because normal site-packages is not writeable\n",
      "Collecting mysql-connector-python\n",
      "  Obtaining dependency information for mysql-connector-python from https://files.pythonhosted.org/packages/38/b4/44efe46d5aff497b6009e4755a5e26a99fd8fe2769857dffa21fad941767/mysql_connector_python-8.4.0-cp311-cp311-win_amd64.whl.metadata\n",
      "  Downloading mysql_connector_python-8.4.0-cp311-cp311-win_amd64.whl.metadata (2.0 kB)\n",
      "Downloading mysql_connector_python-8.4.0-cp311-cp311-win_amd64.whl (14.5 MB)\n",
      "   ---------------------------------------- 0.0/14.5 MB ? eta -:--:--\n",
      "   ---------------------------------------- 0.0/14.5 MB ? eta -:--:--\n",
      "   ---------------------------------------- 0.0/14.5 MB 445.2 kB/s eta 0:00:33\n",
      "   ---------------------------------------- 0.0/14.5 MB 445.2 kB/s eta 0:00:33\n",
      "   ---------------------------------------- 0.0/14.5 MB 445.2 kB/s eta 0:00:33\n",
      "   ---------------------------------------- 0.0/14.5 MB 445.2 kB/s eta 0:00:33\n",
      "   ---------------------------------------- 0.0/14.5 MB 445.2 kB/s eta 0:00:33\n",
      "   ---------------------------------------- 0.1/14.5 MB 173.0 kB/s eta 0:01:24\n",
      "   ---------------------------------------- 0.1/14.5 MB 238.8 kB/s eta 0:01:01\n",
      "   ---------------------------------------- 0.1/14.5 MB 285.2 kB/s eta 0:00:51\n",
      "   ---------------------------------------- 0.1/14.5 MB 285.2 kB/s eta 0:00:51\n",
      "   ---------------------------------------- 0.1/14.5 MB 285.2 kB/s eta 0:00:51\n",
      "   ---------------------------------------- 0.1/14.5 MB 285.2 kB/s eta 0:00:51\n",
      "   ---------------------------------------- 0.1/14.5 MB 285.2 kB/s eta 0:00:51\n",
      "    --------------------------------------- 0.3/14.5 MB 416.0 kB/s eta 0:00:35\n",
      "    --------------------------------------- 0.3/14.5 MB 432.0 kB/s eta 0:00:33\n",
      "    --------------------------------------- 0.3/14.5 MB 432.0 kB/s eta 0:00:33\n",
      "    --------------------------------------- 0.3/14.5 MB 432.0 kB/s eta 0:00:33\n",
      "    --------------------------------------- 0.3/14.5 MB 383.4 kB/s eta 0:00:37\n",
      "   - -------------------------------------- 0.4/14.5 MB 491.5 kB/s eta 0:00:29\n",
      "   - -------------------------------------- 0.6/14.5 MB 599.0 kB/s eta 0:00:24\n",
      "   - -------------------------------------- 0.6/14.5 MB 599.0 kB/s eta 0:00:24\n",
      "   - -------------------------------------- 0.6/14.5 MB 599.0 kB/s eta 0:00:24\n",
      "   - -------------------------------------- 0.6/14.5 MB 599.0 kB/s eta 0:00:24\n",
      "   - -------------------------------------- 0.6/14.5 MB 599.0 kB/s eta 0:00:24\n",
      "   -- ------------------------------------- 1.0/14.5 MB 841.5 kB/s eta 0:00:17\n",
      "   -- ------------------------------------- 1.1/14.5 MB 909.4 kB/s eta 0:00:15\n",
      "   -- ------------------------------------- 1.1/14.5 MB 909.4 kB/s eta 0:00:15\n",
      "   -- ------------------------------------- 1.1/14.5 MB 909.4 kB/s eta 0:00:15\n",
      "   -- ------------------------------------- 1.1/14.5 MB 909.4 kB/s eta 0:00:15\n",
      "   -- ------------------------------------- 1.1/14.5 MB 909.4 kB/s eta 0:00:15\n",
      "   -- ------------------------------------- 1.1/14.5 MB 909.4 kB/s eta 0:00:15\n",
      "   --- ------------------------------------ 1.1/14.5 MB 768.2 kB/s eta 0:00:18\n",
      "   --- ------------------------------------ 1.3/14.5 MB 816.0 kB/s eta 0:00:17\n",
      "   ---- ----------------------------------- 1.7/14.5 MB 1.1 MB/s eta 0:00:12\n",
      "   ---- ----------------------------------- 1.7/14.5 MB 1.1 MB/s eta 0:00:12\n",
      "   ---- ----------------------------------- 1.7/14.5 MB 1.1 MB/s eta 0:00:12\n",
      "   ---- ----------------------------------- 1.7/14.5 MB 1.1 MB/s eta 0:00:12\n",
      "   ---- ----------------------------------- 1.7/14.5 MB 1.1 MB/s eta 0:00:12\n",
      "   ---- ----------------------------------- 1.8/14.5 MB 969.3 kB/s eta 0:00:14\n",
      "   ----- ---------------------------------- 2.0/14.5 MB 1.1 MB/s eta 0:00:12\n",
      "   ----- ---------------------------------- 2.0/14.5 MB 1.1 MB/s eta 0:00:12\n",
      "   ----- ---------------------------------- 2.0/14.5 MB 1.1 MB/s eta 0:00:12\n",
      "   ----- ---------------------------------- 2.0/14.5 MB 1.1 MB/s eta 0:00:12\n",
      "   ----- ---------------------------------- 2.0/14.5 MB 1.1 MB/s eta 0:00:12\n",
      "   ------- -------------------------------- 2.9/14.5 MB 1.4 MB/s eta 0:00:09\n",
      "   ------- -------------------------------- 2.9/14.5 MB 1.4 MB/s eta 0:00:09\n",
      "   ------- -------------------------------- 2.9/14.5 MB 1.4 MB/s eta 0:00:09\n",
      "   ------- -------------------------------- 2.9/14.5 MB 1.4 MB/s eta 0:00:09\n",
      "   ------- -------------------------------- 2.9/14.5 MB 1.4 MB/s eta 0:00:09\n",
      "   -------- ------------------------------- 3.1/14.5 MB 1.3 MB/s eta 0:00:09\n",
      "   -------- ------------------------------- 3.2/14.5 MB 1.3 MB/s eta 0:00:09\n",
      "   --------- ------------------------------ 3.4/14.5 MB 1.4 MB/s eta 0:00:08\n",
      "   ---------- ----------------------------- 3.7/14.5 MB 1.5 MB/s eta 0:00:08\n",
      "   ---------- ----------------------------- 3.8/14.5 MB 1.5 MB/s eta 0:00:08\n",
      "   ----------- ---------------------------- 4.0/14.5 MB 1.6 MB/s eta 0:00:07\n",
      "   ----------- ---------------------------- 4.1/14.5 MB 1.6 MB/s eta 0:00:07\n",
      "   ----------- ---------------------------- 4.2/14.5 MB 1.6 MB/s eta 0:00:07\n",
      "   ------------ --------------------------- 4.6/14.5 MB 1.7 MB/s eta 0:00:06\n",
      "   ------------- -------------------------- 4.7/14.5 MB 1.7 MB/s eta 0:00:06\n",
      "   ------------- -------------------------- 4.8/14.5 MB 1.7 MB/s eta 0:00:06\n",
      "   ------------- -------------------------- 5.0/14.5 MB 1.8 MB/s eta 0:00:06\n",
      "   ------------- -------------------------- 5.0/14.5 MB 1.8 MB/s eta 0:00:06\n",
      "   ------------- -------------------------- 5.0/14.5 MB 1.8 MB/s eta 0:00:06\n",
      "   --------------- ------------------------ 5.6/14.5 MB 1.9 MB/s eta 0:00:05\n",
      "   ---------------- ----------------------- 5.8/14.5 MB 1.9 MB/s eta 0:00:05\n",
      "   ---------------- ----------------------- 6.0/14.5 MB 2.0 MB/s eta 0:00:05\n",
      "   ---------------- ----------------------- 6.0/14.5 MB 2.0 MB/s eta 0:00:05\n",
      "   ---------------- ----------------------- 6.0/14.5 MB 1.9 MB/s eta 0:00:05\n",
      "   ----------------- ---------------------- 6.3/14.5 MB 2.0 MB/s eta 0:00:05\n",
      "   ----------------- ---------------------- 6.4/14.5 MB 2.0 MB/s eta 0:00:05\n",
      "   ------------------ --------------------- 6.6/14.5 MB 2.0 MB/s eta 0:00:04\n",
      "   ------------------- -------------------- 7.0/14.5 MB 2.1 MB/s eta 0:00:04\n",
      "   ------------------- -------------------- 7.1/14.5 MB 2.1 MB/s eta 0:00:04\n",
      "   ------------------- -------------------- 7.2/14.5 MB 2.1 MB/s eta 0:00:04\n",
      "   -------------------- ------------------- 7.4/14.5 MB 2.1 MB/s eta 0:00:04\n",
      "   -------------------- ------------------- 7.5/14.5 MB 2.1 MB/s eta 0:00:04\n",
      "   --------------------- ------------------ 7.6/14.5 MB 2.2 MB/s eta 0:00:04\n",
      "   ---------------------- ----------------- 8.1/14.5 MB 2.2 MB/s eta 0:00:03\n",
      "   ----------------------- ---------------- 8.3/14.5 MB 2.3 MB/s eta 0:00:03\n",
      "   ----------------------- ---------------- 8.5/14.5 MB 2.3 MB/s eta 0:00:03\n",
      "   ----------------------- ---------------- 8.6/14.5 MB 2.3 MB/s eta 0:00:03\n",
      "   ----------------------- ---------------- 8.7/14.5 MB 2.3 MB/s eta 0:00:03\n",
      "   ----------------------- ---------------- 8.7/14.5 MB 2.3 MB/s eta 0:00:03\n",
      "   ----------------------- ---------------- 8.7/14.5 MB 2.3 MB/s eta 0:00:03\n",
      "   ----------------------- ---------------- 8.7/14.5 MB 2.3 MB/s eta 0:00:03\n",
      "   ----------------------- ---------------- 8.7/14.5 MB 2.3 MB/s eta 0:00:03\n",
      "   ----------------------- ---------------- 8.7/14.5 MB 2.3 MB/s eta 0:00:03\n",
      "   ----------------------- ---------------- 8.7/14.5 MB 2.3 MB/s eta 0:00:03\n",
      "   --------------------------- ------------ 9.8/14.5 MB 2.4 MB/s eta 0:00:02\n",
      "   --------------------------- ------------ 9.8/14.5 MB 2.4 MB/s eta 0:00:02\n",
      "   --------------------------- ------------ 9.8/14.5 MB 2.4 MB/s eta 0:00:02\n",
      "   --------------------------- ------------ 9.9/14.5 MB 2.3 MB/s eta 0:00:02\n",
      "   --------------------------- ------------ 10.0/14.5 MB 2.3 MB/s eta 0:00:02\n",
      "   ---------------------------- ----------- 10.2/14.5 MB 2.3 MB/s eta 0:00:02\n",
      "   ---------------------------- ----------- 10.3/14.5 MB 2.5 MB/s eta 0:00:02\n",
      "   ---------------------------- ----------- 10.4/14.5 MB 2.7 MB/s eta 0:00:02\n",
      "   ----------------------------- ---------- 10.6/14.5 MB 2.8 MB/s eta 0:00:02\n",
      "   ----------------------------- ---------- 10.7/14.5 MB 2.8 MB/s eta 0:00:02\n",
      "   ----------------------------- ---------- 10.8/14.5 MB 3.0 MB/s eta 0:00:02\n",
      "   ------------------------------ --------- 10.9/14.5 MB 2.9 MB/s eta 0:00:02\n",
      "   ------------------------------ --------- 10.9/14.5 MB 2.9 MB/s eta 0:00:02\n",
      "   ------------------------------ --------- 10.9/14.5 MB 2.9 MB/s eta 0:00:02\n",
      "   ------------------------------ --------- 10.9/14.5 MB 2.9 MB/s eta 0:00:02\n",
      "   -------------------------------- ------- 11.7/14.5 MB 3.1 MB/s eta 0:00:01\n",
      "   -------------------------------- ------- 11.8/14.5 MB 3.1 MB/s eta 0:00:01\n",
      "   -------------------------------- ------- 11.8/14.5 MB 3.0 MB/s eta 0:00:01\n",
      "   --------------------------------- ------ 12.0/14.5 MB 3.2 MB/s eta 0:00:01\n",
      "   --------------------------------- ------ 12.0/14.5 MB 3.2 MB/s eta 0:00:01\n",
      "   --------------------------------- ------ 12.2/14.5 MB 3.2 MB/s eta 0:00:01\n",
      "   --------------------------------- ------ 12.2/14.5 MB 3.1 MB/s eta 0:00:01\n",
      "   ---------------------------------- ----- 12.3/14.5 MB 3.3 MB/s eta 0:00:01\n",
      "   ---------------------------------- ----- 12.3/14.5 MB 3.3 MB/s eta 0:00:01\n",
      "   ---------------------------------- ----- 12.4/14.5 MB 3.2 MB/s eta 0:00:01\n",
      "   ---------------------------------- ----- 12.6/14.5 MB 3.1 MB/s eta 0:00:01\n",
      "   ----------------------------------- ---- 12.7/14.5 MB 3.1 MB/s eta 0:00:01\n",
      "   ----------------------------------- ---- 12.9/14.5 MB 3.1 MB/s eta 0:00:01\n",
      "   ----------------------------------- ---- 12.9/14.5 MB 3.0 MB/s eta 0:00:01\n",
      "   ------------------------------------ --- 13.0/14.5 MB 3.0 MB/s eta 0:00:01\n",
      "   ------------------------------------ --- 13.1/14.5 MB 3.2 MB/s eta 0:00:01\n",
      "   ------------------------------------ --- 13.3/14.5 MB 3.1 MB/s eta 0:00:01\n",
      "   ------------------------------------- -- 13.4/14.5 MB 3.1 MB/s eta 0:00:01\n",
      "   ------------------------------------- -- 13.5/14.5 MB 3.1 MB/s eta 0:00:01\n",
      "   ------------------------------------- -- 13.6/14.5 MB 3.1 MB/s eta 0:00:01\n",
      "   -------------------------------------- - 13.8/14.5 MB 3.1 MB/s eta 0:00:01\n",
      "   -------------------------------------- - 13.9/14.5 MB 3.0 MB/s eta 0:00:01\n",
      "   -------------------------------------- - 14.0/14.5 MB 3.0 MB/s eta 0:00:01\n",
      "   -------------------------------------- - 14.1/14.5 MB 3.0 MB/s eta 0:00:01\n",
      "   ---------------------------------------  14.2/14.5 MB 3.0 MB/s eta 0:00:01\n",
      "   ---------------------------------------  14.3/14.5 MB 3.0 MB/s eta 0:00:01\n",
      "   ---------------------------------------  14.4/14.5 MB 3.0 MB/s eta 0:00:01\n",
      "   ---------------------------------------  14.4/14.5 MB 3.0 MB/s eta 0:00:01\n",
      "   ---------------------------------------  14.4/14.5 MB 3.0 MB/s eta 0:00:01\n",
      "   ---------------------------------------- 14.5/14.5 MB 2.9 MB/s eta 0:00:00\n",
      "Installing collected packages: mysql-connector-python\n",
      "Successfully installed mysql-connector-python-8.4.0\n",
      "Note: you may need to restart the kernel to use updated packages.\n"
     ]
    },
    {
     "name": "stderr",
     "output_type": "stream",
     "text": [
      "DEPRECATION: Loading egg at c:\\programdata\\anaconda3\\lib\\site-packages\\vboxapi-1.0-py3.11.egg is deprecated. pip 23.3 will enforce this behaviour change. A possible replacement is to use pip for package installation..\n"
     ]
    }
   ],
   "source": [
    "pip install mysql-connector-python"
   ]
  },
  {
   "cell_type": "code",
   "execution_count": 1,
   "id": "b2f2e04d",
   "metadata": {},
   "outputs": [
    {
     "name": "stdout",
     "output_type": "stream",
     "text": [
      "Connection Established\n"
     ]
    }
   ],
   "source": [
    "import mysql.connector\n",
    "mydb=mysql.connector.connect(host='localhost',password='300905',user='root')\n",
    "\n",
    "if mydb.is_connected():\n",
    "   print(\"Connection Established\")\n"
   ]
  },
  {
   "cell_type": "code",
   "execution_count": 2,
   "id": "b57a0909",
   "metadata": {},
   "outputs": [],
   "source": [
    "mycursor=mydb.cursor()"
   ]
  },
  {
   "cell_type": "code",
   "execution_count": 3,
   "id": "a0160534",
   "metadata": {},
   "outputs": [
    {
     "name": "stdout",
     "output_type": "stream",
     "text": [
      "('aaft',)\n",
      "('classicmodels',)\n",
      "('college',)\n",
      "('information_schema',)\n",
      "('mysql',)\n",
      "('performance_schema',)\n",
      "('sys',)\n"
     ]
    }
   ],
   "source": [
    "mycursor.execute(\"show databases\")\n",
    "for db in mycursor:\n",
    "    print(db)"
   ]
  },
  {
   "cell_type": "code",
   "execution_count": 4,
   "id": "a0f1fbe0",
   "metadata": {},
   "outputs": [],
   "source": [
    "import mysql.connector\n",
    "mydb=mysql.connector.connect(host='localhost',password='300905',user='root')\n",
    "mycursor=mydb.cursor()\n",
    "mycursor.execute(\"create database SODS\")"
   ]
  },
  {
   "cell_type": "code",
   "execution_count": 5,
   "id": "dc9cb2ec",
   "metadata": {},
   "outputs": [],
   "source": [
    "import mysql.connector\n",
    "mydb=mysql.connector.connect(host='localhost',password='300905',user='root',database='sods')\n",
    "mycursor=mydb.cursor()\n",
    "t=\"CREATE TABLE Book(bookid int(4),title varchar(20),price float(5,2))\"\n",
    "mycursor.execute(t)"
   ]
  },
  {
   "cell_type": "code",
   "execution_count": 6,
   "id": "2d098b17",
   "metadata": {},
   "outputs": [
    {
     "name": "stdout",
     "output_type": "stream",
     "text": [
      "('book',)\n"
     ]
    }
   ],
   "source": [
    "import mysql.connector\n",
    "mydb=mysql.connector.connect(host='localhost',password='300905',user='root',database='sods')\n",
    "mycursor=mydb.cursor()\n",
    "mycursor.execute(\"show tables\")\n",
    "for db in mycursor:\n",
    "    print(db)"
   ]
  },
  {
   "cell_type": "code",
   "execution_count": 7,
   "id": "0275ffc0",
   "metadata": {},
   "outputs": [],
   "source": [
    "import mysql.connector\n",
    "mydb=mysql.connector.connect(host='localhost',password='300905',user='root',database='sods')\n",
    "mycursor=mydb.cursor()\n",
    "s=\"INSERT INTO book(bookid,title,price) VALUES(%s,%s,%s)\"\n",
    "r1=(1,'Python2',350)\n",
    "mycursor.execute(s,r1)\n",
    "mydb.commit()"
   ]
  },
  {
   "cell_type": "code",
   "execution_count": 8,
   "id": "c725f431",
   "metadata": {},
   "outputs": [
    {
     "name": "stdout",
     "output_type": "stream",
     "text": [
      "(1, 'Python2', 350.0)\n"
     ]
    }
   ],
   "source": [
    "import mysql.connector\n",
    "mydb=mysql.connector.connect(host='localhost',password='300905',user='root',database='sods')\n",
    "mycursor=mydb.cursor()\n",
    "s=\"SELECT * from book\"\n",
    "mycursor.execute(s)\n",
    "result=mycursor.fetchall()\n",
    "for rec in result:\n",
    "    print(rec)"
   ]
  },
  {
   "cell_type": "code",
   "execution_count": 9,
   "id": "a4e45842",
   "metadata": {},
   "outputs": [],
   "source": [
    "import mysql.connector\n",
    "mydb=mysql.connector.connect(host='localhost',password='300905',user='root',database='sods')\n",
    "mycursor=mydb.cursor()\n",
    "s=\"INSERT INTO book(bookid,title,price) VALUES(%s,%s,%s)\"\n",
    "r1=(1,'SQL',550)\n",
    "mycursor.execute(s,r1)\n",
    "mydb.commit()"
   ]
  },
  {
   "cell_type": "code",
   "execution_count": 11,
   "id": "50acdce7",
   "metadata": {},
   "outputs": [
    {
     "name": "stdout",
     "output_type": "stream",
     "text": [
      "(1, 'Python2', 350.0)\n",
      "(1, 'SQL', 550.0)\n"
     ]
    }
   ],
   "source": [
    "import mysql.connector\n",
    "mydb=mysql.connector.connect(host='localhost',password='300905',user='root',database='sods')\n",
    "mycursor=mydb.cursor()\n",
    "s=\"SELECT * from book\"\n",
    "mycursor.execute(s)\n",
    "result=mycursor.fetchall()\n",
    "for rec in result:\n",
    "    print(rec)"
   ]
  },
  {
   "cell_type": "code",
   "execution_count": 12,
   "id": "36cb8684",
   "metadata": {},
   "outputs": [],
   "source": [
    "import mysql.connector\n",
    "mydb=mysql.connector.connect(host='localhost',password='300905',user='root',database='sods')\n",
    "mycursor=mydb.cursor()\n",
    "s=\"INSERT INTO book(bookid,title,price) VALUES(%s,%s,%s)\"\n",
    "r1=(1,'ML',450)\n",
    "mycursor.execute(s,r1)\n",
    "mydb.commit()"
   ]
  },
  {
   "cell_type": "code",
   "execution_count": 13,
   "id": "bccf5803",
   "metadata": {},
   "outputs": [
    {
     "name": "stdout",
     "output_type": "stream",
     "text": [
      "(1, 'Python2', 350.0)\n",
      "(1, 'SQL', 550.0)\n",
      "(1, 'ML', 450.0)\n"
     ]
    }
   ],
   "source": [
    "import mysql.connector\n",
    "mydb=mysql.connector.connect(host='localhost',password='300905',user='root',database='sods')\n",
    "mycursor=mydb.cursor()\n",
    "s=\"SELECT * from book\"\n",
    "mycursor.execute(s)\n",
    "result=mycursor.fetchall()\n",
    "for rec in result:\n",
    "    print(rec)"
   ]
  },
  {
   "cell_type": "code",
   "execution_count": 14,
   "id": "0408a491",
   "metadata": {},
   "outputs": [
    {
     "name": "stdout",
     "output_type": "stream",
     "text": [
      "1 Records affected\n"
     ]
    }
   ],
   "source": [
    "import mysql.connector\n",
    "mydb=mysql.connector.connect(host='localhost',password='300905',user='root',database='sods')\n",
    "mycursor=mydb.cursor()\n",
    "s= \"UPDATE book SET price=price+100 WHERE price=350\"\n",
    "mycursor.execute(s)\n",
    "mydb.commit()\n",
    "print(mycursor.rowcount,\"Records affected\")"
   ]
  },
  {
   "cell_type": "code",
   "execution_count": 15,
   "id": "33905795",
   "metadata": {},
   "outputs": [
    {
     "name": "stdout",
     "output_type": "stream",
     "text": [
      "(1, 'Python2', 450.0)\n",
      "(1, 'SQL', 550.0)\n",
      "(1, 'ML', 450.0)\n"
     ]
    }
   ],
   "source": [
    "import mysql.connector\n",
    "mydb=mysql.connector.connect(host='localhost',password='300905',user='root',database='sods')\n",
    "mycursor=mydb.cursor()\n",
    "s=\"SELECT * from book\"\n",
    "mycursor.execute(s)\n",
    "result=mycursor.fetchall()\n",
    "for rec in result:\n",
    "    print(rec)"
   ]
  },
  {
   "cell_type": "code",
   "execution_count": 16,
   "id": "3079754e",
   "metadata": {},
   "outputs": [],
   "source": [
    "import mysql.connector\n",
    "mydb=mysql.connector.connect(host='localhost',password='300905',user='root',database='sods')\n",
    "mycursor=mydb.cursor()\n",
    "s=\"DELETE FROM book WHERE price=450\"\n",
    "mycursor.execute(s)\n",
    "mydb.commit()"
   ]
  },
  {
   "cell_type": "code",
   "execution_count": 17,
   "id": "0b4c7bd5",
   "metadata": {},
   "outputs": [],
   "source": [
    "import mysql.connector\n",
    "mydb=mysql.connector.connect(host='localhost',password='300905',user='root',database='sods')\n",
    "mycursor=mydb.cursor()\n",
    "s=\"DELETE FROM book WHERE price=450\"\n",
    "mycursor.execute(s)\n",
    "mydb.commit()"
   ]
  },
  {
   "cell_type": "code",
   "execution_count": 19,
   "id": "f59e2f8f",
   "metadata": {},
   "outputs": [
    {
     "name": "stdout",
     "output_type": "stream",
     "text": [
      "(1, 'SQL', 550.0)\n"
     ]
    }
   ],
   "source": [
    "import mysql.connector\n",
    "mydb=mysql.connector.connect(host='localhost',password='300905',user='root',database='sods')\n",
    "mycursor=mydb.cursor()\n",
    "s=\"SELECT * from book\"\n",
    "mycursor.execute(s)\n",
    "result=mycursor.fetchall()\n",
    "for rec in result:\n",
    "    print(rec)"
   ]
  },
  {
   "cell_type": "code",
   "execution_count": 13,
   "id": "bb3934af",
   "metadata": {},
   "outputs": [],
   "source": [
    "import mysql.connector\n",
    "mydb=mysql.connector.connect(host='localhost',password='300905',user='root',database='sods')\n",
    "mycursor=mydb.cursor()\n",
    "s=\"INSERT INTO book(bookid,title,price) VALUES(%s,%s,%s)\"\n",
    "records=[\n",
    "    (1,'ml',300),\n",
    "    (2,'java',100),\n",
    "    (3,'ai',500),\n",
    "    (4,'python',300)\n",
    "]\n",
    "mycursor.executemany(s,records)\n",
    "mydb.commit()"
   ]
  },
  {
   "cell_type": "code",
   "execution_count": 6,
   "id": "ec7001cc",
   "metadata": {},
   "outputs": [
    {
     "name": "stdout",
     "output_type": "stream",
     "text": [
      "(1, 'SQL', 550.0)\n",
      "(1, 'ml', 300.0)\n",
      "(2, 'java', 100.0)\n",
      "(3, 'ai', 500.0)\n",
      "(4, 'python', 300.0)\n",
      "(1, 'ml', 300.0)\n",
      "(2, 'java', 100.0)\n",
      "(3, 'ai', 500.0)\n",
      "(4, 'python', 300.0)\n"
     ]
    }
   ],
   "source": [
    "import mysql.connector\n",
    "mydb=mysql.connector.connect(host='localhost',password='300905',user='root',database='sods')\n",
    "mycursor=mydb.cursor()\n",
    "s=\"SELECT * from book\"\n",
    "mycursor.execute(s)\n",
    "result=mycursor.fetchall()\n",
    "for rec in result:\n",
    "    print(rec)"
   ]
  },
  {
   "cell_type": "code",
   "execution_count": null,
   "id": "fcbd4534",
   "metadata": {},
   "outputs": [],
   "source": []
  }
 ],
 "metadata": {
  "kernelspec": {
   "display_name": "Python 3 (ipykernel)",
   "language": "python",
   "name": "python3"
  },
  "language_info": {
   "codemirror_mode": {
    "name": "ipython",
    "version": 3
   },
   "file_extension": ".py",
   "mimetype": "text/x-python",
   "name": "python",
   "nbconvert_exporter": "python",
   "pygments_lexer": "ipython3",
   "version": "3.11.5"
  }
 },
 "nbformat": 4,
 "nbformat_minor": 5
}
